{
  "cells": [
    {
      "cell_type": "markdown",
      "metadata": {
        "id": "view-in-github",
        "colab_type": "text"
      },
      "source": [
        "<a href=\"https://colab.research.google.com/github/jpdefo/House-Prices-Advanced-Regression-Technique-Ada-ML2s-/blob/main/Trabalho.ipynb\" target=\"_parent\"><img src=\"https://colab.research.google.com/assets/colab-badge.svg\" alt=\"Open In Colab\"/></a>"
      ]
    },
    {
      "cell_type": "markdown",
      "source": [
        "# Bibliotecas (imports) e Macros"
      ],
      "metadata": {
        "id": "TIPXYGjZQyL1"
      }
    },
    {
      "cell_type": "code",
      "source": [
        "import pandas as pd\n",
        "import numpy as np\n",
        "import matplotlib.pyplot as plt\n",
        "import seaborn as sns"
      ],
      "metadata": {
        "id": "0pRYzZBcQ19y"
      },
      "execution_count": 263,
      "outputs": []
    },
    {
      "cell_type": "code",
      "source": [
        "new_cols = {}\n",
        "remove_cols = set()"
      ],
      "metadata": {
        "id": "cq_5aR3s4ob2"
      },
      "execution_count": 264,
      "outputs": []
    },
    {
      "cell_type": "markdown",
      "source": [
        "# EDA"
      ],
      "metadata": {
        "id": "ZsC0n6oTRGij"
      }
    },
    {
      "cell_type": "markdown",
      "source": [
        "## Panorama"
      ],
      "metadata": {
        "id": "lnDvYZkJRLed"
      }
    },
    {
      "cell_type": "code",
      "execution_count": 265,
      "metadata": {
        "colab": {
          "base_uri": "https://localhost:8080/"
        },
        "id": "I9SZi2TgQiWg",
        "outputId": "0159ce1a-46ff-4546-afaa-4f2bd5ca5c96"
      },
      "outputs": [
        {
          "output_type": "execute_result",
          "data": {
            "text/plain": [
              "(1460, 80)"
            ]
          },
          "metadata": {},
          "execution_count": 265
        }
      ],
      "source": [
        "# ler train.csv\n",
        "df = pd.read_csv('https://raw.githubusercontent.com/jpdefo/House-Prices-Advanced-Regression-Technique-Ada-ML2s-/main/train.csv',\n",
        "                 index_col = 0)\n",
        "\n",
        "# verificar numero de linhas e colunas\n",
        "df.shape"
      ]
    },
    {
      "cell_type": "code",
      "source": [
        "# Uma primeira visualizacao dos dados\n",
        "df.head()"
      ],
      "metadata": {
        "colab": {
          "base_uri": "https://localhost:8080/",
          "height": 325
        },
        "id": "ZpwZXMIpRa8r",
        "outputId": "0d90687b-3780-4577-bf4b-9a27ed788439"
      },
      "execution_count": 266,
      "outputs": [
        {
          "output_type": "execute_result",
          "data": {
            "text/plain": [
              "    MSSubClass MSZoning  LotFrontage  LotArea Street Alley LotShape  \\\n",
              "Id                                                                    \n",
              "1           60       RL         65.0     8450   Pave   NaN      Reg   \n",
              "2           20       RL         80.0     9600   Pave   NaN      Reg   \n",
              "3           60       RL         68.0    11250   Pave   NaN      IR1   \n",
              "4           70       RL         60.0     9550   Pave   NaN      IR1   \n",
              "5           60       RL         84.0    14260   Pave   NaN      IR1   \n",
              "\n",
              "   LandContour Utilities LotConfig  ... PoolArea PoolQC Fence MiscFeature  \\\n",
              "Id                                  ...                                     \n",
              "1          Lvl    AllPub    Inside  ...        0    NaN   NaN         NaN   \n",
              "2          Lvl    AllPub       FR2  ...        0    NaN   NaN         NaN   \n",
              "3          Lvl    AllPub    Inside  ...        0    NaN   NaN         NaN   \n",
              "4          Lvl    AllPub    Corner  ...        0    NaN   NaN         NaN   \n",
              "5          Lvl    AllPub       FR2  ...        0    NaN   NaN         NaN   \n",
              "\n",
              "   MiscVal MoSold  YrSold  SaleType  SaleCondition  SalePrice  \n",
              "Id                                                             \n",
              "1        0      2    2008        WD         Normal     208500  \n",
              "2        0      5    2007        WD         Normal     181500  \n",
              "3        0      9    2008        WD         Normal     223500  \n",
              "4        0      2    2006        WD        Abnorml     140000  \n",
              "5        0     12    2008        WD         Normal     250000  \n",
              "\n",
              "[5 rows x 80 columns]"
            ],
            "text/html": [
              "\n",
              "\n",
              "  <div id=\"df-996f18c2-ec91-4807-ab32-3b7de7d496c2\">\n",
              "    <div class=\"colab-df-container\">\n",
              "      <div>\n",
              "<style scoped>\n",
              "    .dataframe tbody tr th:only-of-type {\n",
              "        vertical-align: middle;\n",
              "    }\n",
              "\n",
              "    .dataframe tbody tr th {\n",
              "        vertical-align: top;\n",
              "    }\n",
              "\n",
              "    .dataframe thead th {\n",
              "        text-align: right;\n",
              "    }\n",
              "</style>\n",
              "<table border=\"1\" class=\"dataframe\">\n",
              "  <thead>\n",
              "    <tr style=\"text-align: right;\">\n",
              "      <th></th>\n",
              "      <th>MSSubClass</th>\n",
              "      <th>MSZoning</th>\n",
              "      <th>LotFrontage</th>\n",
              "      <th>LotArea</th>\n",
              "      <th>Street</th>\n",
              "      <th>Alley</th>\n",
              "      <th>LotShape</th>\n",
              "      <th>LandContour</th>\n",
              "      <th>Utilities</th>\n",
              "      <th>LotConfig</th>\n",
              "      <th>...</th>\n",
              "      <th>PoolArea</th>\n",
              "      <th>PoolQC</th>\n",
              "      <th>Fence</th>\n",
              "      <th>MiscFeature</th>\n",
              "      <th>MiscVal</th>\n",
              "      <th>MoSold</th>\n",
              "      <th>YrSold</th>\n",
              "      <th>SaleType</th>\n",
              "      <th>SaleCondition</th>\n",
              "      <th>SalePrice</th>\n",
              "    </tr>\n",
              "    <tr>\n",
              "      <th>Id</th>\n",
              "      <th></th>\n",
              "      <th></th>\n",
              "      <th></th>\n",
              "      <th></th>\n",
              "      <th></th>\n",
              "      <th></th>\n",
              "      <th></th>\n",
              "      <th></th>\n",
              "      <th></th>\n",
              "      <th></th>\n",
              "      <th></th>\n",
              "      <th></th>\n",
              "      <th></th>\n",
              "      <th></th>\n",
              "      <th></th>\n",
              "      <th></th>\n",
              "      <th></th>\n",
              "      <th></th>\n",
              "      <th></th>\n",
              "      <th></th>\n",
              "      <th></th>\n",
              "    </tr>\n",
              "  </thead>\n",
              "  <tbody>\n",
              "    <tr>\n",
              "      <th>1</th>\n",
              "      <td>60</td>\n",
              "      <td>RL</td>\n",
              "      <td>65.0</td>\n",
              "      <td>8450</td>\n",
              "      <td>Pave</td>\n",
              "      <td>NaN</td>\n",
              "      <td>Reg</td>\n",
              "      <td>Lvl</td>\n",
              "      <td>AllPub</td>\n",
              "      <td>Inside</td>\n",
              "      <td>...</td>\n",
              "      <td>0</td>\n",
              "      <td>NaN</td>\n",
              "      <td>NaN</td>\n",
              "      <td>NaN</td>\n",
              "      <td>0</td>\n",
              "      <td>2</td>\n",
              "      <td>2008</td>\n",
              "      <td>WD</td>\n",
              "      <td>Normal</td>\n",
              "      <td>208500</td>\n",
              "    </tr>\n",
              "    <tr>\n",
              "      <th>2</th>\n",
              "      <td>20</td>\n",
              "      <td>RL</td>\n",
              "      <td>80.0</td>\n",
              "      <td>9600</td>\n",
              "      <td>Pave</td>\n",
              "      <td>NaN</td>\n",
              "      <td>Reg</td>\n",
              "      <td>Lvl</td>\n",
              "      <td>AllPub</td>\n",
              "      <td>FR2</td>\n",
              "      <td>...</td>\n",
              "      <td>0</td>\n",
              "      <td>NaN</td>\n",
              "      <td>NaN</td>\n",
              "      <td>NaN</td>\n",
              "      <td>0</td>\n",
              "      <td>5</td>\n",
              "      <td>2007</td>\n",
              "      <td>WD</td>\n",
              "      <td>Normal</td>\n",
              "      <td>181500</td>\n",
              "    </tr>\n",
              "    <tr>\n",
              "      <th>3</th>\n",
              "      <td>60</td>\n",
              "      <td>RL</td>\n",
              "      <td>68.0</td>\n",
              "      <td>11250</td>\n",
              "      <td>Pave</td>\n",
              "      <td>NaN</td>\n",
              "      <td>IR1</td>\n",
              "      <td>Lvl</td>\n",
              "      <td>AllPub</td>\n",
              "      <td>Inside</td>\n",
              "      <td>...</td>\n",
              "      <td>0</td>\n",
              "      <td>NaN</td>\n",
              "      <td>NaN</td>\n",
              "      <td>NaN</td>\n",
              "      <td>0</td>\n",
              "      <td>9</td>\n",
              "      <td>2008</td>\n",
              "      <td>WD</td>\n",
              "      <td>Normal</td>\n",
              "      <td>223500</td>\n",
              "    </tr>\n",
              "    <tr>\n",
              "      <th>4</th>\n",
              "      <td>70</td>\n",
              "      <td>RL</td>\n",
              "      <td>60.0</td>\n",
              "      <td>9550</td>\n",
              "      <td>Pave</td>\n",
              "      <td>NaN</td>\n",
              "      <td>IR1</td>\n",
              "      <td>Lvl</td>\n",
              "      <td>AllPub</td>\n",
              "      <td>Corner</td>\n",
              "      <td>...</td>\n",
              "      <td>0</td>\n",
              "      <td>NaN</td>\n",
              "      <td>NaN</td>\n",
              "      <td>NaN</td>\n",
              "      <td>0</td>\n",
              "      <td>2</td>\n",
              "      <td>2006</td>\n",
              "      <td>WD</td>\n",
              "      <td>Abnorml</td>\n",
              "      <td>140000</td>\n",
              "    </tr>\n",
              "    <tr>\n",
              "      <th>5</th>\n",
              "      <td>60</td>\n",
              "      <td>RL</td>\n",
              "      <td>84.0</td>\n",
              "      <td>14260</td>\n",
              "      <td>Pave</td>\n",
              "      <td>NaN</td>\n",
              "      <td>IR1</td>\n",
              "      <td>Lvl</td>\n",
              "      <td>AllPub</td>\n",
              "      <td>FR2</td>\n",
              "      <td>...</td>\n",
              "      <td>0</td>\n",
              "      <td>NaN</td>\n",
              "      <td>NaN</td>\n",
              "      <td>NaN</td>\n",
              "      <td>0</td>\n",
              "      <td>12</td>\n",
              "      <td>2008</td>\n",
              "      <td>WD</td>\n",
              "      <td>Normal</td>\n",
              "      <td>250000</td>\n",
              "    </tr>\n",
              "  </tbody>\n",
              "</table>\n",
              "<p>5 rows × 80 columns</p>\n",
              "</div>\n",
              "      <button class=\"colab-df-convert\" onclick=\"convertToInteractive('df-996f18c2-ec91-4807-ab32-3b7de7d496c2')\"\n",
              "              title=\"Convert this dataframe to an interactive table.\"\n",
              "              style=\"display:none;\">\n",
              "\n",
              "  <svg xmlns=\"http://www.w3.org/2000/svg\" height=\"24px\"viewBox=\"0 0 24 24\"\n",
              "       width=\"24px\">\n",
              "    <path d=\"M0 0h24v24H0V0z\" fill=\"none\"/>\n",
              "    <path d=\"M18.56 5.44l.94 2.06.94-2.06 2.06-.94-2.06-.94-.94-2.06-.94 2.06-2.06.94zm-11 1L8.5 8.5l.94-2.06 2.06-.94-2.06-.94L8.5 2.5l-.94 2.06-2.06.94zm10 10l.94 2.06.94-2.06 2.06-.94-2.06-.94-.94-2.06-.94 2.06-2.06.94z\"/><path d=\"M17.41 7.96l-1.37-1.37c-.4-.4-.92-.59-1.43-.59-.52 0-1.04.2-1.43.59L10.3 9.45l-7.72 7.72c-.78.78-.78 2.05 0 2.83L4 21.41c.39.39.9.59 1.41.59.51 0 1.02-.2 1.41-.59l7.78-7.78 2.81-2.81c.8-.78.8-2.07 0-2.86zM5.41 20L4 18.59l7.72-7.72 1.47 1.35L5.41 20z\"/>\n",
              "  </svg>\n",
              "      </button>\n",
              "\n",
              "\n",
              "\n",
              "    <div id=\"df-939f3d61-a2d0-4acb-9163-d67292a06b0e\">\n",
              "      <button class=\"colab-df-quickchart\" onclick=\"quickchart('df-939f3d61-a2d0-4acb-9163-d67292a06b0e')\"\n",
              "              title=\"Suggest charts.\"\n",
              "              style=\"display:none;\">\n",
              "\n",
              "<svg xmlns=\"http://www.w3.org/2000/svg\" height=\"24px\"viewBox=\"0 0 24 24\"\n",
              "     width=\"24px\">\n",
              "    <g>\n",
              "        <path d=\"M19 3H5c-1.1 0-2 .9-2 2v14c0 1.1.9 2 2 2h14c1.1 0 2-.9 2-2V5c0-1.1-.9-2-2-2zM9 17H7v-7h2v7zm4 0h-2V7h2v10zm4 0h-2v-4h2v4z\"/>\n",
              "    </g>\n",
              "</svg>\n",
              "      </button>\n",
              "    </div>\n",
              "\n",
              "<style>\n",
              "  .colab-df-quickchart {\n",
              "    background-color: #E8F0FE;\n",
              "    border: none;\n",
              "    border-radius: 50%;\n",
              "    cursor: pointer;\n",
              "    display: none;\n",
              "    fill: #1967D2;\n",
              "    height: 32px;\n",
              "    padding: 0 0 0 0;\n",
              "    width: 32px;\n",
              "  }\n",
              "\n",
              "  .colab-df-quickchart:hover {\n",
              "    background-color: #E2EBFA;\n",
              "    box-shadow: 0px 1px 2px rgba(60, 64, 67, 0.3), 0px 1px 3px 1px rgba(60, 64, 67, 0.15);\n",
              "    fill: #174EA6;\n",
              "  }\n",
              "\n",
              "  [theme=dark] .colab-df-quickchart {\n",
              "    background-color: #3B4455;\n",
              "    fill: #D2E3FC;\n",
              "  }\n",
              "\n",
              "  [theme=dark] .colab-df-quickchart:hover {\n",
              "    background-color: #434B5C;\n",
              "    box-shadow: 0px 1px 3px 1px rgba(0, 0, 0, 0.15);\n",
              "    filter: drop-shadow(0px 1px 2px rgba(0, 0, 0, 0.3));\n",
              "    fill: #FFFFFF;\n",
              "  }\n",
              "</style>\n",
              "\n",
              "    <script>\n",
              "      async function quickchart(key) {\n",
              "        const containerElement = document.querySelector('#' + key);\n",
              "        const charts = await google.colab.kernel.invokeFunction(\n",
              "            'suggestCharts', [key], {});\n",
              "      }\n",
              "    </script>\n",
              "\n",
              "      <script>\n",
              "\n",
              "function displayQuickchartButton(domScope) {\n",
              "  let quickchartButtonEl =\n",
              "    domScope.querySelector('#df-939f3d61-a2d0-4acb-9163-d67292a06b0e button.colab-df-quickchart');\n",
              "  quickchartButtonEl.style.display =\n",
              "    google.colab.kernel.accessAllowed ? 'block' : 'none';\n",
              "}\n",
              "\n",
              "        displayQuickchartButton(document);\n",
              "      </script>\n",
              "      <style>\n",
              "    .colab-df-container {\n",
              "      display:flex;\n",
              "      flex-wrap:wrap;\n",
              "      gap: 12px;\n",
              "    }\n",
              "\n",
              "    .colab-df-convert {\n",
              "      background-color: #E8F0FE;\n",
              "      border: none;\n",
              "      border-radius: 50%;\n",
              "      cursor: pointer;\n",
              "      display: none;\n",
              "      fill: #1967D2;\n",
              "      height: 32px;\n",
              "      padding: 0 0 0 0;\n",
              "      width: 32px;\n",
              "    }\n",
              "\n",
              "    .colab-df-convert:hover {\n",
              "      background-color: #E2EBFA;\n",
              "      box-shadow: 0px 1px 2px rgba(60, 64, 67, 0.3), 0px 1px 3px 1px rgba(60, 64, 67, 0.15);\n",
              "      fill: #174EA6;\n",
              "    }\n",
              "\n",
              "    [theme=dark] .colab-df-convert {\n",
              "      background-color: #3B4455;\n",
              "      fill: #D2E3FC;\n",
              "    }\n",
              "\n",
              "    [theme=dark] .colab-df-convert:hover {\n",
              "      background-color: #434B5C;\n",
              "      box-shadow: 0px 1px 3px 1px rgba(0, 0, 0, 0.15);\n",
              "      filter: drop-shadow(0px 1px 2px rgba(0, 0, 0, 0.3));\n",
              "      fill: #FFFFFF;\n",
              "    }\n",
              "  </style>\n",
              "\n",
              "      <script>\n",
              "        const buttonEl =\n",
              "          document.querySelector('#df-996f18c2-ec91-4807-ab32-3b7de7d496c2 button.colab-df-convert');\n",
              "        buttonEl.style.display =\n",
              "          google.colab.kernel.accessAllowed ? 'block' : 'none';\n",
              "\n",
              "        async function convertToInteractive(key) {\n",
              "          const element = document.querySelector('#df-996f18c2-ec91-4807-ab32-3b7de7d496c2');\n",
              "          const dataTable =\n",
              "            await google.colab.kernel.invokeFunction('convertToInteractive',\n",
              "                                                     [key], {});\n",
              "          if (!dataTable) return;\n",
              "\n",
              "          const docLinkHtml = 'Like what you see? Visit the ' +\n",
              "            '<a target=\"_blank\" href=https://colab.research.google.com/notebooks/data_table.ipynb>data table notebook</a>'\n",
              "            + ' to learn more about interactive tables.';\n",
              "          element.innerHTML = '';\n",
              "          dataTable['output_type'] = 'display_data';\n",
              "          await google.colab.output.renderOutput(dataTable, element);\n",
              "          const docLink = document.createElement('div');\n",
              "          docLink.innerHTML = docLinkHtml;\n",
              "          element.appendChild(docLink);\n",
              "        }\n",
              "      </script>\n",
              "    </div>\n",
              "  </div>\n"
            ]
          },
          "metadata": {},
          "execution_count": 266
        }
      ]
    },
    {
      "cell_type": "code",
      "source": [
        "# Verificar colunas, número de entradas não nulas e tipo das colunas\n",
        "# Batendo dados com o dicionário: https://github.com/jpdefo/House-Prices-Advanced-Regression-Technique-Ada-ML2s-/blob/main/data_description.txt\n",
        "df.info()"
      ],
      "metadata": {
        "colab": {
          "base_uri": "https://localhost:8080/"
        },
        "id": "fEL1wrrNRxGh",
        "outputId": "e7c7478b-afe3-4bac-f9da-f961fd33e6d4"
      },
      "execution_count": 267,
      "outputs": [
        {
          "output_type": "stream",
          "name": "stdout",
          "text": [
            "<class 'pandas.core.frame.DataFrame'>\n",
            "Int64Index: 1460 entries, 1 to 1460\n",
            "Data columns (total 80 columns):\n",
            " #   Column         Non-Null Count  Dtype  \n",
            "---  ------         --------------  -----  \n",
            " 0   MSSubClass     1460 non-null   int64  \n",
            " 1   MSZoning       1460 non-null   object \n",
            " 2   LotFrontage    1201 non-null   float64\n",
            " 3   LotArea        1460 non-null   int64  \n",
            " 4   Street         1460 non-null   object \n",
            " 5   Alley          91 non-null     object \n",
            " 6   LotShape       1460 non-null   object \n",
            " 7   LandContour    1460 non-null   object \n",
            " 8   Utilities      1460 non-null   object \n",
            " 9   LotConfig      1460 non-null   object \n",
            " 10  LandSlope      1460 non-null   object \n",
            " 11  Neighborhood   1460 non-null   object \n",
            " 12  Condition1     1460 non-null   object \n",
            " 13  Condition2     1460 non-null   object \n",
            " 14  BldgType       1460 non-null   object \n",
            " 15  HouseStyle     1460 non-null   object \n",
            " 16  OverallQual    1460 non-null   int64  \n",
            " 17  OverallCond    1460 non-null   int64  \n",
            " 18  YearBuilt      1460 non-null   int64  \n",
            " 19  YearRemodAdd   1460 non-null   int64  \n",
            " 20  RoofStyle      1460 non-null   object \n",
            " 21  RoofMatl       1460 non-null   object \n",
            " 22  Exterior1st    1460 non-null   object \n",
            " 23  Exterior2nd    1460 non-null   object \n",
            " 24  MasVnrType     1452 non-null   object \n",
            " 25  MasVnrArea     1452 non-null   float64\n",
            " 26  ExterQual      1460 non-null   object \n",
            " 27  ExterCond      1460 non-null   object \n",
            " 28  Foundation     1460 non-null   object \n",
            " 29  BsmtQual       1423 non-null   object \n",
            " 30  BsmtCond       1423 non-null   object \n",
            " 31  BsmtExposure   1422 non-null   object \n",
            " 32  BsmtFinType1   1423 non-null   object \n",
            " 33  BsmtFinSF1     1460 non-null   int64  \n",
            " 34  BsmtFinType2   1422 non-null   object \n",
            " 35  BsmtFinSF2     1460 non-null   int64  \n",
            " 36  BsmtUnfSF      1460 non-null   int64  \n",
            " 37  TotalBsmtSF    1460 non-null   int64  \n",
            " 38  Heating        1460 non-null   object \n",
            " 39  HeatingQC      1460 non-null   object \n",
            " 40  CentralAir     1460 non-null   object \n",
            " 41  Electrical     1459 non-null   object \n",
            " 42  1stFlrSF       1460 non-null   int64  \n",
            " 43  2ndFlrSF       1460 non-null   int64  \n",
            " 44  LowQualFinSF   1460 non-null   int64  \n",
            " 45  GrLivArea      1460 non-null   int64  \n",
            " 46  BsmtFullBath   1460 non-null   int64  \n",
            " 47  BsmtHalfBath   1460 non-null   int64  \n",
            " 48  FullBath       1460 non-null   int64  \n",
            " 49  HalfBath       1460 non-null   int64  \n",
            " 50  BedroomAbvGr   1460 non-null   int64  \n",
            " 51  KitchenAbvGr   1460 non-null   int64  \n",
            " 52  KitchenQual    1460 non-null   object \n",
            " 53  TotRmsAbvGrd   1460 non-null   int64  \n",
            " 54  Functional     1460 non-null   object \n",
            " 55  Fireplaces     1460 non-null   int64  \n",
            " 56  FireplaceQu    770 non-null    object \n",
            " 57  GarageType     1379 non-null   object \n",
            " 58  GarageYrBlt    1379 non-null   float64\n",
            " 59  GarageFinish   1379 non-null   object \n",
            " 60  GarageCars     1460 non-null   int64  \n",
            " 61  GarageArea     1460 non-null   int64  \n",
            " 62  GarageQual     1379 non-null   object \n",
            " 63  GarageCond     1379 non-null   object \n",
            " 64  PavedDrive     1460 non-null   object \n",
            " 65  WoodDeckSF     1460 non-null   int64  \n",
            " 66  OpenPorchSF    1460 non-null   int64  \n",
            " 67  EnclosedPorch  1460 non-null   int64  \n",
            " 68  3SsnPorch      1460 non-null   int64  \n",
            " 69  ScreenPorch    1460 non-null   int64  \n",
            " 70  PoolArea       1460 non-null   int64  \n",
            " 71  PoolQC         7 non-null      object \n",
            " 72  Fence          281 non-null    object \n",
            " 73  MiscFeature    54 non-null     object \n",
            " 74  MiscVal        1460 non-null   int64  \n",
            " 75  MoSold         1460 non-null   int64  \n",
            " 76  YrSold         1460 non-null   int64  \n",
            " 77  SaleType       1460 non-null   object \n",
            " 78  SaleCondition  1460 non-null   object \n",
            " 79  SalePrice      1460 non-null   int64  \n",
            "dtypes: float64(3), int64(34), object(43)\n",
            "memory usage: 923.9+ KB\n"
          ]
        }
      ]
    },
    {
      "cell_type": "markdown",
      "source": [
        "Pontos de Atenção:\n",
        "- MSSubClass é categórico\n",
        "- Street é binário [Grvl/Pave]\n",
        "- OverallQual é uma nota (likert)\n",
        "- OverallCond é uma nota (likert)\n",
        "- CentralAir é binário [N/Y]\n",
        "\n",
        "Colunas com muitos nulos:\n",
        "- Alley\n",
        "- FireplaceQu\n",
        "- PoolQC\n",
        "- Fence\n",
        "- MiscFeature"
      ],
      "metadata": {
        "id": "XR_4ZXdrSsoz"
      }
    },
    {
      "cell_type": "code",
      "source": [
        "# transformar numeros que representam categorias em objetos\n",
        "# df[['MSSubClass', 'OverallQual', 'OverallCond']] =\n",
        "df[['MSSubClass', 'OverallQual', 'OverallCond']] = df[['MSSubClass', 'OverallQual', 'OverallCond']].astype('object')\n",
        "df[['MSSubClass', 'OverallQual', 'OverallCond']].dtypes"
      ],
      "metadata": {
        "colab": {
          "base_uri": "https://localhost:8080/"
        },
        "id": "WDJLQTbZXaWQ",
        "outputId": "1b96f93f-a98c-44fb-e4cd-3e41e8537bde"
      },
      "execution_count": 268,
      "outputs": [
        {
          "output_type": "execute_result",
          "data": {
            "text/plain": [
              "MSSubClass     object\n",
              "OverallQual    object\n",
              "OverallCond    object\n",
              "dtype: object"
            ]
          },
          "metadata": {},
          "execution_count": 268
        }
      ]
    },
    {
      "cell_type": "code",
      "execution_count": 269,
      "metadata": {
        "colab": {
          "base_uri": "https://localhost:8080/"
        },
        "id": "CqJp-QGoQiWk",
        "outputId": "bea92b69-b25d-4ff7-a010-460c737b37cd"
      },
      "outputs": [
        {
          "output_type": "execute_result",
          "data": {
            "text/plain": [
              "Electrical         1\n",
              "MasVnrType         8\n",
              "MasVnrArea         8\n",
              "BsmtQual          37\n",
              "BsmtCond          37\n",
              "BsmtFinType1      37\n",
              "BsmtExposure      38\n",
              "BsmtFinType2      38\n",
              "GarageCond        81\n",
              "GarageQual        81\n",
              "GarageFinish      81\n",
              "GarageType        81\n",
              "GarageYrBlt       81\n",
              "LotFrontage      259\n",
              "FireplaceQu      690\n",
              "Fence           1179\n",
              "Alley           1369\n",
              "MiscFeature     1406\n",
              "PoolQC          1453\n",
              "dtype: int64"
            ]
          },
          "metadata": {},
          "execution_count": 269
        }
      ],
      "source": [
        "# listar apenas as colunas que possuem valores nulos\n",
        "df.isnull().sum()[df.isnull().sum() > 0].sort_values()"
      ]
    },
    {
      "cell_type": "markdown",
      "source": [
        "Sera estudado caso a caso para saber se removemos ou não.\n",
        "As colunas binárias serão tratadas junto com as demais categoricas se necessário alguma camada de encoding."
      ],
      "metadata": {
        "id": "5VxEZX5-WzVC"
      }
    },
    {
      "cell_type": "code",
      "execution_count": 270,
      "metadata": {
        "colab": {
          "base_uri": "https://localhost:8080/"
        },
        "id": "dcPhI3HHQiWm",
        "outputId": "c984f907-7184-4f56-cfcd-4eafc0cc377a"
      },
      "outputs": [
        {
          "output_type": "stream",
          "name": "stdout",
          "text": [
            "colunas numéricas: 34\n",
            "Index(['LotFrontage', 'LotArea', 'YearBuilt', 'YearRemodAdd', 'MasVnrArea',\n",
            "       'BsmtFinSF1', 'BsmtFinSF2', 'BsmtUnfSF', 'TotalBsmtSF', '1stFlrSF',\n",
            "       '2ndFlrSF', 'LowQualFinSF', 'GrLivArea', 'BsmtFullBath', 'BsmtHalfBath',\n",
            "       'FullBath', 'HalfBath', 'BedroomAbvGr', 'KitchenAbvGr', 'TotRmsAbvGrd',\n",
            "       'Fireplaces', 'GarageYrBlt', 'GarageCars', 'GarageArea', 'WoodDeckSF',\n",
            "       'OpenPorchSF', 'EnclosedPorch', '3SsnPorch', 'ScreenPorch', 'PoolArea',\n",
            "       'MiscVal', 'MoSold', 'YrSold', 'SalePrice'],\n",
            "      dtype='object')\n"
          ]
        }
      ],
      "source": [
        "# Examinando colunas numéricas\n",
        "col_num = df.select_dtypes(include= 'number').columns\n",
        "print('colunas numéricas:', len(col_num))\n",
        "print(col_num)"
      ]
    },
    {
      "cell_type": "code",
      "execution_count": 271,
      "metadata": {
        "colab": {
          "base_uri": "https://localhost:8080/"
        },
        "id": "Oz1Cj_EgQiWn",
        "outputId": "6c414c32-2ea1-4430-eda2-6cb25cd12244"
      },
      "outputs": [
        {
          "output_type": "stream",
          "name": "stdout",
          "text": [
            "colunas numéricas: 46\n",
            "Index(['MSSubClass', 'MSZoning', 'Street', 'Alley', 'LotShape', 'LandContour',\n",
            "       'Utilities', 'LotConfig', 'LandSlope', 'Neighborhood', 'Condition1',\n",
            "       'Condition2', 'BldgType', 'HouseStyle', 'OverallQual', 'OverallCond',\n",
            "       'RoofStyle', 'RoofMatl', 'Exterior1st', 'Exterior2nd', 'MasVnrType',\n",
            "       'ExterQual', 'ExterCond', 'Foundation', 'BsmtQual', 'BsmtCond',\n",
            "       'BsmtExposure', 'BsmtFinType1', 'BsmtFinType2', 'Heating', 'HeatingQC',\n",
            "       'CentralAir', 'Electrical', 'KitchenQual', 'Functional', 'FireplaceQu',\n",
            "       'GarageType', 'GarageFinish', 'GarageQual', 'GarageCond', 'PavedDrive',\n",
            "       'PoolQC', 'Fence', 'MiscFeature', 'SaleType', 'SaleCondition'],\n",
            "      dtype='object')\n"
          ]
        }
      ],
      "source": [
        "# Examinando colunas categóricas\n",
        "col_cat = df.select_dtypes(exclude= 'number').columns\n",
        "print('colunas numéricas:', len(col_cat))\n",
        "print(col_cat)"
      ]
    },
    {
      "cell_type": "markdown",
      "source": [
        "## Hipoteses"
      ],
      "metadata": {
        "id": "2WI1fdH8aElA"
      }
    },
    {
      "cell_type": "markdown",
      "source": [
        "### Testar se há relacao entre:\n",
        "- 1stFlrSF: First Floor square feet\n",
        "- 2ndFlrSF: Second floor square feet\n",
        "- LowQualFinSF: Low quality finished square feet (all floors)\n",
        "- GrLivArea: Above grade (ground) living area square feet"
      ],
      "metadata": {
        "id": "wh9MTvdAdrff"
      }
    },
    {
      "cell_type": "code",
      "source": [
        "# LowQualFinSF is equal the sum of 1st and 2nd floor?\n",
        "( df['1stFlrSF'] + df['2ndFlrSF'] - df['LowQualFinSF'] ).sort_values()"
      ],
      "metadata": {
        "colab": {
          "base_uri": "https://localhost:8080/"
        },
        "id": "cxWUJm0qdSeT",
        "outputId": "ed6be1cd-26aa-4227-b56b-b53ccbedcbad"
      },
      "execution_count": 272,
      "outputs": [
        {
          "output_type": "execute_result",
          "data": {
            "text/plain": [
              "Id\n",
              "126      286\n",
              "171      326\n",
              "534      334\n",
              "1101     438\n",
              "52       456\n",
              "        ... \n",
              "1170    3627\n",
              "692     4316\n",
              "1183    4476\n",
              "524     4676\n",
              "1299    5642\n",
              "Length: 1460, dtype: int64"
            ]
          },
          "metadata": {},
          "execution_count": 272
        }
      ]
    },
    {
      "cell_type": "code",
      "source": [
        "# GrLivArea is equal the sum of 1st and 2nd floor?\n",
        "( df['1stFlrSF'] + df['2ndFlrSF'] - df['GrLivArea'] ).sort_values()"
      ],
      "metadata": {
        "colab": {
          "base_uri": "https://localhost:8080/"
        },
        "id": "MIXVLa54d1ij",
        "outputId": "b04cf082-50bb-4215-b97a-55891b6fb5f8"
      },
      "execution_count": 273,
      "outputs": [
        {
          "output_type": "execute_result",
          "data": {
            "text/plain": [
              "Id\n",
              "186    -572\n",
              "171    -528\n",
              "636    -515\n",
              "1010   -514\n",
              "89     -513\n",
              "       ... \n",
              "490       0\n",
              "489       0\n",
              "488       0\n",
              "486       0\n",
              "1460      0\n",
              "Length: 1460, dtype: int64"
            ]
          },
          "metadata": {},
          "execution_count": 273
        }
      ]
    },
    {
      "cell_type": "code",
      "source": [
        "# GrLivArea is equal the sum of the rest?\n",
        "( df['1stFlrSF'] + df['2ndFlrSF'] + df['LowQualFinSF'] - df['GrLivArea'] ).sort_values()"
      ],
      "metadata": {
        "colab": {
          "base_uri": "https://localhost:8080/"
        },
        "id": "q3bVXC4Od7Yl",
        "outputId": "6bddf2b2-877d-4c1a-ff8b-7bdfe22ed71d"
      },
      "execution_count": 274,
      "outputs": [
        {
          "output_type": "execute_result",
          "data": {
            "text/plain": [
              "Id\n",
              "1       0\n",
              "979     0\n",
              "978     0\n",
              "977     0\n",
              "976     0\n",
              "       ..\n",
              "483     0\n",
              "482     0\n",
              "481     0\n",
              "479     0\n",
              "1460    0\n",
              "Length: 1460, dtype: int64"
            ]
          },
          "metadata": {},
          "execution_count": 274
        }
      ]
    },
    {
      "cell_type": "markdown",
      "source": [
        "GrLivArea é a soma de 1stFlrSF, 2ndFlrSF e LowQualFinSF\n",
        "\n",
        "Isso será considerado na hora de treinar o modelo, devido as colunas serem linearmente dependentes"
      ],
      "metadata": {
        "id": "SaFAFYEYeFUV"
      }
    },
    {
      "cell_type": "code",
      "source": [
        "df = df.drop(columns= 'GrLivArea')\n",
        "remove_cols.add('GrLivArea')"
      ],
      "metadata": {
        "id": "F7OM1gzlBzGu"
      },
      "execution_count": 275,
      "outputs": []
    },
    {
      "cell_type": "markdown",
      "source": [
        "### Testar se há relacao entre:\n",
        "- BsmtFinSF1: Type 1 finished square feet\n",
        "- BsmtFinSF2: Type 2 finished square feet\n",
        "- BsmtUnfSF: Unfinished square feet of basement area\n",
        "- TotalBsmtSF: Total square feet of basement area"
      ],
      "metadata": {
        "id": "YEThQcaCeYEe"
      }
    },
    {
      "cell_type": "code",
      "source": [
        "# TotalBsmtSF is equal the sum of the rest?\n",
        "( df['BsmtFinSF1'] + df['BsmtFinSF2'] + df['BsmtUnfSF'] - df['TotalBsmtSF'] ).sort_values()"
      ],
      "metadata": {
        "colab": {
          "base_uri": "https://localhost:8080/"
        },
        "id": "PRYNOiAilbVp",
        "outputId": "baea518b-d98f-4233-d1bd-a2cfd9465fd6"
      },
      "execution_count": 276,
      "outputs": [
        {
          "output_type": "execute_result",
          "data": {
            "text/plain": [
              "Id\n",
              "1       0\n",
              "979     0\n",
              "978     0\n",
              "977     0\n",
              "976     0\n",
              "       ..\n",
              "483     0\n",
              "482     0\n",
              "481     0\n",
              "479     0\n",
              "1460    0\n",
              "Length: 1460, dtype: int64"
            ]
          },
          "metadata": {},
          "execution_count": 276
        }
      ]
    },
    {
      "cell_type": "markdown",
      "source": [
        "TotalBsmtSF é a soma de BsmtFinSF1, BsmtFinSF2 e BsmtUnfSF\n",
        "\n",
        "Isso será considerado na hora de treinar o modelo, devido as colunas serem linearmente dependentes"
      ],
      "metadata": {
        "id": "Y06mKYsollme"
      }
    },
    {
      "cell_type": "code",
      "source": [
        "df = df.drop(columns= 'TotalBsmtSF')\n",
        "remove_cols.add('TotalBsmtSF')"
      ],
      "metadata": {
        "id": "xzf2hEiNB5Xy"
      },
      "execution_count": 277,
      "outputs": []
    },
    {
      "cell_type": "markdown",
      "source": [
        "## Colunas com muitos nulos"
      ],
      "metadata": {
        "id": "uv6vNCuFmvQb"
      }
    },
    {
      "cell_type": "markdown",
      "source": [
        "#### PoolQC (1453 nulos)"
      ],
      "metadata": {
        "id": "bG8GzVW_m64x"
      }
    },
    {
      "cell_type": "code",
      "source": [
        "# A pesar de existir \"NA\"(\"No Pool\"), let's see its relation to PoolArea\n",
        "df[df.PoolQC.isna()]['PoolArea'].unique()"
      ],
      "metadata": {
        "colab": {
          "base_uri": "https://localhost:8080/"
        },
        "id": "0ciUbszTmzfR",
        "outputId": "02329d2c-6944-4545-9206-f10f18106190"
      },
      "execution_count": 278,
      "outputs": [
        {
          "output_type": "execute_result",
          "data": {
            "text/plain": [
              "array([0])"
            ]
          },
          "metadata": {},
          "execution_count": 278
        }
      ]
    },
    {
      "cell_type": "code",
      "source": [
        "# Podemos preencher os valores com \"NA\"\n",
        "df.loc[df.PoolQC.isna(), 'PoolQC'] = \"N/A\"\n",
        "df.PoolQC.isna().sum()"
      ],
      "metadata": {
        "colab": {
          "base_uri": "https://localhost:8080/"
        },
        "id": "3qp8zyNTnq8D",
        "outputId": "b5cd722e-92c2-4bac-f94f-ecbbed99aaa8"
      },
      "execution_count": 279,
      "outputs": [
        {
          "output_type": "execute_result",
          "data": {
            "text/plain": [
              "0"
            ]
          },
          "metadata": {},
          "execution_count": 279
        }
      ]
    },
    {
      "cell_type": "code",
      "source": [
        "# Verificar a distribuicao dos valores\n",
        "df.PoolQC.value_counts()"
      ],
      "metadata": {
        "colab": {
          "base_uri": "https://localhost:8080/"
        },
        "id": "g1840AqhyMUO",
        "outputId": "a4298623-4f22-4cb0-af32-ae3dbee9cced"
      },
      "execution_count": 280,
      "outputs": [
        {
          "output_type": "execute_result",
          "data": {
            "text/plain": [
              "N/A    1453\n",
              "Gd        3\n",
              "Ex        2\n",
              "Fa        2\n",
              "Name: PoolQC, dtype: int64"
            ]
          },
          "metadata": {},
          "execution_count": 280
        }
      ]
    },
    {
      "cell_type": "code",
      "source": [
        "# Como essas categorias são muito pouco representativas, vamos eliminar a coluna\n",
        "remove_cols.add('PoolQC')\n",
        "if 'PoolQC' in df:\n",
        "    df = df.drop(columns= 'PoolQC')\n",
        "print('PoolQC' in df)"
      ],
      "metadata": {
        "colab": {
          "base_uri": "https://localhost:8080/"
        },
        "id": "85MmCE1tycFo",
        "outputId": "ab6b44bd-e13f-42fe-9f13-21d559b6fd5b"
      },
      "execution_count": 281,
      "outputs": [
        {
          "output_type": "stream",
          "name": "stdout",
          "text": [
            "False\n"
          ]
        }
      ]
    },
    {
      "cell_type": "markdown",
      "source": [
        "#### MiscFeature (1406 nulos)"
      ],
      "metadata": {
        "id": "antZh02koJTq"
      }
    },
    {
      "cell_type": "code",
      "source": [
        "# Os valores representam outas caracteristicas nao representadas em outra colunas. No dicionario:\n",
        "# MiscFeature: Miscellaneous feature not covered in other categories\n",
        "#        Elev\tElevator\n",
        "#        Gar2\t2nd Garage (if not described in garage section)\n",
        "#        Othr\tOther\n",
        "#        Shed\tShed (over 100 SF) -> barracão\n",
        "#        TenC\tTennis Court\n",
        "#        NA\tNone\n",
        "df.MiscFeature.value_counts()"
      ],
      "metadata": {
        "colab": {
          "base_uri": "https://localhost:8080/"
        },
        "id": "exAycbAgoRFs",
        "outputId": "691bfadf-5282-4cdf-874f-6f7571015f89"
      },
      "execution_count": 282,
      "outputs": [
        {
          "output_type": "execute_result",
          "data": {
            "text/plain": [
              "Shed    49\n",
              "Gar2     2\n",
              "Othr     2\n",
              "TenC     1\n",
              "Name: MiscFeature, dtype: int64"
            ]
          },
          "metadata": {},
          "execution_count": 282
        }
      ]
    },
    {
      "cell_type": "code",
      "source": [
        "# Como há poucos valores para outras categorias alem de Shed (barracão),\n",
        "# Vamos trocar a coluna para shed\n",
        "def Shed_extraction(df_base):\n",
        "    return np.where(df_base.MiscFeature == 'Shed', 'Y', 'N')\n",
        "\n",
        "new_cols['Shed'] = Shed_extraction\n",
        "\n",
        "df['Shed'] = Shed_extraction(df)\n",
        "df['Shed'].value_counts()"
      ],
      "metadata": {
        "colab": {
          "base_uri": "https://localhost:8080/"
        },
        "id": "FdC2jNbqqslK",
        "outputId": "9242cce9-23c9-41d3-9b8e-2320f64e3dde"
      },
      "execution_count": 283,
      "outputs": [
        {
          "output_type": "execute_result",
          "data": {
            "text/plain": [
              "N    1411\n",
              "Y      49\n",
              "Name: Shed, dtype: int64"
            ]
          },
          "metadata": {},
          "execution_count": 283
        }
      ]
    },
    {
      "cell_type": "code",
      "source": [
        "# Removendo antiga colunas\n",
        "remove_cols.add('MiscFeature')\n",
        "if 'MiscFeature' in df:\n",
        "    df = df.drop(columns= 'MiscFeature')\n",
        "print('MiscFeature' in df)"
      ],
      "metadata": {
        "colab": {
          "base_uri": "https://localhost:8080/"
        },
        "id": "3RcZRd14rTJo",
        "outputId": "b4679983-737d-4b0e-fa14-263ff4044e3b"
      },
      "execution_count": 284,
      "outputs": [
        {
          "output_type": "stream",
          "name": "stdout",
          "text": [
            "False\n"
          ]
        }
      ]
    },
    {
      "cell_type": "markdown",
      "source": [
        "#### Alley (1369 nulos)"
      ],
      "metadata": {
        "id": "d8AeE_BesHTh"
      }
    },
    {
      "cell_type": "code",
      "source": [
        "# verificar se os nulos sao os \"NA\" descritos no data_description.txt\n",
        "# Alley: Type of alley access to property\n",
        "    # Grvl\tGravel\n",
        "    # Pave\tPaved\n",
        "    # NA \tNo alley access\n",
        "df['Alley'].value_counts()"
      ],
      "metadata": {
        "colab": {
          "base_uri": "https://localhost:8080/"
        },
        "id": "8FtXb0FjsNhx",
        "outputId": "3c08f5d0-b2a4-45fc-d470-fe0d810f8734"
      },
      "execution_count": 285,
      "outputs": [
        {
          "output_type": "execute_result",
          "data": {
            "text/plain": [
              "Grvl    50\n",
              "Pave    41\n",
              "Name: Alley, dtype: int64"
            ]
          },
          "metadata": {},
          "execution_count": 285
        }
      ]
    },
    {
      "cell_type": "code",
      "source": [
        "# Preencher os nulos com NA para evitar confusão\n",
        "df.loc[df.Alley.isna(), 'Alley'] = \"N/A\"\n",
        "df['Alley'].value_counts()"
      ],
      "metadata": {
        "colab": {
          "base_uri": "https://localhost:8080/"
        },
        "id": "8S0Fx_QxtQI6",
        "outputId": "ab5d2a4b-b829-48ab-9409-a59027704bd2"
      },
      "execution_count": 286,
      "outputs": [
        {
          "output_type": "execute_result",
          "data": {
            "text/plain": [
              "N/A     1369\n",
              "Grvl      50\n",
              "Pave      41\n",
              "Name: Alley, dtype: int64"
            ]
          },
          "metadata": {},
          "execution_count": 286
        }
      ]
    },
    {
      "cell_type": "code",
      "source": [
        "# Como as categorias sao pouco representadas e temos:\n",
        "    #    Grvl\tGravel\n",
        "    #    Pave\tPaved\n",
        "# Vamos agrupar em tem ou nao\n",
        "def Alley_exist(df_base):\n",
        "    return np.where(df_base.Alley.isna() | (df_base.Alley == 'N/A'), 'N', 'Y')\n",
        "\n",
        "new_cols['Alley'] = Alley_exist\n",
        "df.Alley = Alley_exist(df)"
      ],
      "metadata": {
        "id": "Tfm1doto5QjC"
      },
      "execution_count": 287,
      "outputs": []
    },
    {
      "cell_type": "markdown",
      "source": [
        "#### Fence (1179 nulos)"
      ],
      "metadata": {
        "id": "q03VKAu-m8g8"
      }
    },
    {
      "cell_type": "code",
      "source": [
        "# verificar se os nulos sao os \"NA\" descritos no data_description.txt\n",
        "# NA \tNo Fence\n",
        "df['Fence'].value_counts()"
      ],
      "metadata": {
        "colab": {
          "base_uri": "https://localhost:8080/"
        },
        "id": "84cogrkSuRgY",
        "outputId": "814a5d7c-5f4c-4f96-93fa-014e7d708deb"
      },
      "execution_count": 288,
      "outputs": [
        {
          "output_type": "execute_result",
          "data": {
            "text/plain": [
              "MnPrv    157\n",
              "GdPrv     59\n",
              "GdWo      54\n",
              "MnWw      11\n",
              "Name: Fence, dtype: int64"
            ]
          },
          "metadata": {},
          "execution_count": 288
        }
      ]
    },
    {
      "cell_type": "code",
      "source": [
        "# Preencher os nulos com NA para evitar confusão\n",
        "df.loc[df.Fence.isna(), 'Fence'] = \"N/A\"\n",
        "df['Fence'].value_counts()"
      ],
      "metadata": {
        "colab": {
          "base_uri": "https://localhost:8080/"
        },
        "id": "X_f453KNucAG",
        "outputId": "e572323b-e7de-4f8a-9eb3-33460e780b55"
      },
      "execution_count": 289,
      "outputs": [
        {
          "output_type": "execute_result",
          "data": {
            "text/plain": [
              "N/A      1179\n",
              "MnPrv     157\n",
              "GdPrv      59\n",
              "GdWo       54\n",
              "MnWw       11\n",
              "Name: Fence, dtype: int64"
            ]
          },
          "metadata": {},
          "execution_count": 289
        }
      ]
    },
    {
      "cell_type": "code",
      "source": [
        "# Como as categorias sao pouco representadas e temos:\n",
        "    #    GdPrv\tGood Privacy\n",
        "    #    MnPrv\tMinimum Privacy\n",
        "    #    GdWo\tGood Wood\n",
        "    #    MnWw\tMinimum Wood/Wire\n",
        "# Vamos agrupar as de privacidade\n",
        "def FencePrivacy_extraction(df_base):\n",
        "    return np.where((df_base.Fence == 'GdPrv') | (df_base.Fence == 'MnPrv'), 'Y', 'N')\n",
        "\n",
        "new_cols['FencePrivacy'] = FencePrivacy_extraction\n",
        "df['FencePrivacy'] = FencePrivacy_extraction(df)\n",
        "df['FencePrivacy'].value_counts()"
      ],
      "metadata": {
        "colab": {
          "base_uri": "https://localhost:8080/"
        },
        "id": "PJvDXnxwzQ_c",
        "outputId": "667eb2d1-43eb-4dc0-9afc-be7f10ec83df"
      },
      "execution_count": 290,
      "outputs": [
        {
          "output_type": "execute_result",
          "data": {
            "text/plain": [
              "N    1244\n",
              "Y     216\n",
              "Name: FencePrivacy, dtype: int64"
            ]
          },
          "metadata": {},
          "execution_count": 290
        }
      ]
    },
    {
      "cell_type": "code",
      "source": [
        "# Removendo antiga colunas\n",
        "remove_cols.add('Fence')\n",
        "if 'Fence' in df:\n",
        "    df = df.drop(columns= 'Fence')\n",
        "print('Fence' in df)"
      ],
      "metadata": {
        "colab": {
          "base_uri": "https://localhost:8080/"
        },
        "id": "VVY2VOfs6KKi",
        "outputId": "29805ca3-b366-43d1-e52c-206d3e5f44ea"
      },
      "execution_count": 291,
      "outputs": [
        {
          "output_type": "stream",
          "name": "stdout",
          "text": [
            "False\n"
          ]
        }
      ]
    },
    {
      "cell_type": "markdown",
      "source": [
        "#### LotFrontage (259 nulos)"
      ],
      "metadata": {
        "id": "jUgk8TikuGOM"
      }
    },
    {
      "cell_type": "code",
      "source": [
        "# como é uma variavel numerica, vamos avaliar a distribuicao\n",
        "df.LotFrontage.plot.hist()"
      ],
      "metadata": {
        "colab": {
          "base_uri": "https://localhost:8080/",
          "height": 467
        },
        "id": "orwgVIipvIN5",
        "outputId": "474ab58d-b7eb-4e1a-b374-8cc3e2991585"
      },
      "execution_count": 292,
      "outputs": [
        {
          "output_type": "execute_result",
          "data": {
            "text/plain": [
              "<Axes: ylabel='Frequency'>"
            ]
          },
          "metadata": {},
          "execution_count": 292
        },
        {
          "output_type": "display_data",
          "data": {
            "text/plain": [
              "<Figure size 640x480 with 1 Axes>"
            ],
            "image/png": "[encoded data removed]"
          },
          "metadata": {}
        }
      ]
    },
    {
      "cell_type": "code",
      "source": [
        "# olhando alguns dados das nulas\n",
        "df[df.LotFrontage.isna()][['LotArea', 'Street', 'Alley']].sort_values('LotArea')"
      ],
      "metadata": {
        "colab": {
          "base_uri": "https://localhost:8080/",
          "height": 464
        },
        "id": "KaV4SdD9vN9N",
        "outputId": "4eea61bc-283a-4565-a180-47427c934e5b"
      },
      "execution_count": 293,
      "outputs": [
        {
          "output_type": "execute_result",
          "data": {
            "text/plain": [
              "      LotArea Street Alley\n",
              "Id                        \n",
              "1087     1974   Pave     N\n",
              "1359     2117   Pave     N\n",
              "181      2117   Pave     N\n",
              "624      2117   Pave     N\n",
              "976      2651   Pave     N\n",
              "...       ...    ...   ...\n",
              "458     53227   Pave     N\n",
              "1397    57200   Pave     N\n",
              "707    115149   Pave     N\n",
              "250    159000   Pave     N\n",
              "336    164660   Grvl     N\n",
              "\n",
              "[259 rows x 3 columns]"
            ],
            "text/html": [
              "\n",
              "\n",
              "  <div id=\"df-5f58102d-29c2-4913-b8dd-8586ff944486\">\n",
              "    <div class=\"colab-df-container\">\n",
              "      <div>\n",
              "<style scoped>\n",
              "    .dataframe tbody tr th:only-of-type {\n",
              "        vertical-align: middle;\n",
              "    }\n",
              "\n",
              "    .dataframe tbody tr th {\n",
              "        vertical-align: top;\n",
              "    }\n",
              "\n",
              "    .dataframe thead th {\n",
              "        text-align: right;\n",
              "    }\n",
              "</style>\n",
              "<table border=\"1\" class=\"dataframe\">\n",
              "  <thead>\n",
              "    <tr style=\"text-align: right;\">\n",
              "      <th></th>\n",
              "      <th>LotArea</th>\n",
              "      <th>Street</th>\n",
              "      <th>Alley</th>\n",
              "    </tr>\n",
              "    <tr>\n",
              "      <th>Id</th>\n",
              "      <th></th>\n",
              "      <th></th>\n",
              "      <th></th>\n",
              "    </tr>\n",
              "  </thead>\n",
              "  <tbody>\n",
              "    <tr>\n",
              "      <th>1087</th>\n",
              "      <td>1974</td>\n",
              "      <td>Pave</td>\n",
              "      <td>N</td>\n",
              "    </tr>\n",
              "    <tr>\n",
              "      <th>1359</th>\n",
              "      <td>2117</td>\n",
              "      <td>Pave</td>\n",
              "      <td>N</td>\n",
              "    </tr>\n",
              "    <tr>\n",
              "      <th>181</th>\n",
              "      <td>2117</td>\n",
              "      <td>Pave</td>\n",
              "      <td>N</td>\n",
              "    </tr>\n",
              "    <tr>\n",
              "      <th>624</th>\n",
              "      <td>2117</td>\n",
              "      <td>Pave</td>\n",
              "      <td>N</td>\n",
              "    </tr>\n",
              "    <tr>\n",
              "      <th>976</th>\n",
              "      <td>2651</td>\n",
              "      <td>Pave</td>\n",
              "      <td>N</td>\n",
              "    </tr>\n",
              "    <tr>\n",
              "      <th>...</th>\n",
              "      <td>...</td>\n",
              "      <td>...</td>\n",
              "      <td>...</td>\n",
              "    </tr>\n",
              "    <tr>\n",
              "      <th>458</th>\n",
              "      <td>53227</td>\n",
              "      <td>Pave</td>\n",
              "      <td>N</td>\n",
              "    </tr>\n",
              "    <tr>\n",
              "      <th>1397</th>\n",
              "      <td>57200</td>\n",
              "      <td>Pave</td>\n",
              "      <td>N</td>\n",
              "    </tr>\n",
              "    <tr>\n",
              "      <th>707</th>\n",
              "      <td>115149</td>\n",
              "      <td>Pave</td>\n",
              "      <td>N</td>\n",
              "    </tr>\n",
              "    <tr>\n",
              "      <th>250</th>\n",
              "      <td>159000</td>\n",
              "      <td>Pave</td>\n",
              "      <td>N</td>\n",
              "    </tr>\n",
              "    <tr>\n",
              "      <th>336</th>\n",
              "      <td>164660</td>\n",
              "      <td>Grvl</td>\n",
              "      <td>N</td>\n",
              "    </tr>\n",
              "  </tbody>\n",
              "</table>\n",
              "<p>259 rows × 3 columns</p>\n",
              "</div>\n",
              "      <button class=\"colab-df-convert\" onclick=\"convertToInteractive('df-5f58102d-29c2-4913-b8dd-8586ff944486')\"\n",
              "              title=\"Convert this dataframe to an interactive table.\"\n",
              "              style=\"display:none;\">\n",
              "\n",
              "  <svg xmlns=\"http://www.w3.org/2000/svg\" height=\"24px\"viewBox=\"0 0 24 24\"\n",
              "       width=\"24px\">\n",
              "    <path d=\"M0 0h24v24H0V0z\" fill=\"none\"/>\n",
              "    <path d=\"M18.56 5.44l.94 2.06.94-2.06 2.06-.94-2.06-.94-.94-2.06-.94 2.06-2.06.94zm-11 1L8.5 8.5l.94-2.06 2.06-.94-2.06-.94L8.5 2.5l-.94 2.06-2.06.94zm10 10l.94 2.06.94-2.06 2.06-.94-2.06-.94-.94-2.06-.94 2.06-2.06.94z\"/><path d=\"M17.41 7.96l-1.37-1.37c-.4-.4-.92-.59-1.43-.59-.52 0-1.04.2-1.43.59L10.3 9.45l-7.72 7.72c-.78.78-.78 2.05 0 2.83L4 21.41c.39.39.9.59 1.41.59.51 0 1.02-.2 1.41-.59l7.78-7.78 2.81-2.81c.8-.78.8-2.07 0-2.86zM5.41 20L4 18.59l7.72-7.72 1.47 1.35L5.41 20z\"/>\n",
              "  </svg>\n",
              "      </button>\n",
              "\n",
              "\n",
              "\n",
              "    <div id=\"df-b78db566-ac4a-4fd2-a657-1f509fd5e451\">\n",
              "      <button class=\"colab-df-quickchart\" onclick=\"quickchart('df-b78db566-ac4a-4fd2-a657-1f509fd5e451')\"\n",
              "              title=\"Suggest charts.\"\n",
              "              style=\"display:none;\">\n",
              "\n",
              "<svg xmlns=\"http://www.w3.org/2000/svg\" height=\"24px\"viewBox=\"0 0 24 24\"\n",
              "     width=\"24px\">\n",
              "    <g>\n",
              "        <path d=\"M19 3H5c-1.1 0-2 .9-2 2v14c0 1.1.9 2 2 2h14c1.1 0 2-.9 2-2V5c0-1.1-.9-2-2-2zM9 17H7v-7h2v7zm4 0h-2V7h2v10zm4 0h-2v-4h2v4z\"/>\n",
              "    </g>\n",
              "</svg>\n",
              "      </button>\n",
              "    </div>\n",
              "\n",
              "<style>\n",
              "  .colab-df-quickchart {\n",
              "    background-color: #E8F0FE;\n",
              "    border: none;\n",
              "    border-radius: 50%;\n",
              "    cursor: pointer;\n",
              "    display: none;\n",
              "    fill: #1967D2;\n",
              "    height: 32px;\n",
              "    padding: 0 0 0 0;\n",
              "    width: 32px;\n",
              "  }\n",
              "\n",
              "  .colab-df-quickchart:hover {\n",
              "    background-color: #E2EBFA;\n",
              "    box-shadow: 0px 1px 2px rgba(60, 64, 67, 0.3), 0px 1px 3px 1px rgba(60, 64, 67, 0.15);\n",
              "    fill: #174EA6;\n",
              "  }\n",
              "\n",
              "  [theme=dark] .colab-df-quickchart {\n",
              "    background-color: #3B4455;\n",
              "    fill: #D2E3FC;\n",
              "  }\n",
              "\n",
              "  [theme=dark] .colab-df-quickchart:hover {\n",
              "    background-color: #434B5C;\n",
              "    box-shadow: 0px 1px 3px 1px rgba(0, 0, 0, 0.15);\n",
              "    filter: drop-shadow(0px 1px 2px rgba(0, 0, 0, 0.3));\n",
              "    fill: #FFFFFF;\n",
              "  }\n",
              "</style>\n",
              "\n",
              "    <script>\n",
              "      async function quickchart(key) {\n",
              "        const containerElement = document.querySelector('#' + key);\n",
              "        const charts = await google.colab.kernel.invokeFunction(\n",
              "            'suggestCharts', [key], {});\n",
              "      }\n",
              "    </script>\n",
              "\n",
              "      <script>\n",
              "\n",
              "function displayQuickchartButton(domScope) {\n",
              "  let quickchartButtonEl =\n",
              "    domScope.querySelector('#df-b78db566-ac4a-4fd2-a657-1f509fd5e451 button.colab-df-quickchart');\n",
              "  quickchartButtonEl.style.display =\n",
              "    google.colab.kernel.accessAllowed ? 'block' : 'none';\n",
              "}\n",
              "\n",
              "        displayQuickchartButton(document);\n",
              "      </script>\n",
              "      <style>\n",
              "    .colab-df-container {\n",
              "      display:flex;\n",
              "      flex-wrap:wrap;\n",
              "      gap: 12px;\n",
              "    }\n",
              "\n",
              "    .colab-df-convert {\n",
              "      background-color: #E8F0FE;\n",
              "      border: none;\n",
              "      border-radius: 50%;\n",
              "      cursor: pointer;\n",
              "      display: none;\n",
              "      fill: #1967D2;\n",
              "      height: 32px;\n",
              "      padding: 0 0 0 0;\n",
              "      width: 32px;\n",
              "    }\n",
              "\n",
              "    .colab-df-convert:hover {\n",
              "      background-color: #E2EBFA;\n",
              "      box-shadow: 0px 1px 2px rgba(60, 64, 67, 0.3), 0px 1px 3px 1px rgba(60, 64, 67, 0.15);\n",
              "      fill: #174EA6;\n",
              "    }\n",
              "\n",
              "    [theme=dark] .colab-df-convert {\n",
              "      background-color: #3B4455;\n",
              "      fill: #D2E3FC;\n",
              "    }\n",
              "\n",
              "    [theme=dark] .colab-df-convert:hover {\n",
              "      background-color: #434B5C;\n",
              "      box-shadow: 0px 1px 3px 1px rgba(0, 0, 0, 0.15);\n",
              "      filter: drop-shadow(0px 1px 2px rgba(0, 0, 0, 0.3));\n",
              "      fill: #FFFFFF;\n",
              "    }\n",
              "  </style>\n",
              "\n",
              "      <script>\n",
              "        const buttonEl =\n",
              "          document.querySelector('#df-5f58102d-29c2-4913-b8dd-8586ff944486 button.colab-df-convert');\n",
              "        buttonEl.style.display =\n",
              "          google.colab.kernel.accessAllowed ? 'block' : 'none';\n",
              "\n",
              "        async function convertToInteractive(key) {\n",
              "          const element = document.querySelector('#df-5f58102d-29c2-4913-b8dd-8586ff944486');\n",
              "          const dataTable =\n",
              "            await google.colab.kernel.invokeFunction('convertToInteractive',\n",
              "                                                     [key], {});\n",
              "          if (!dataTable) return;\n",
              "\n",
              "          const docLinkHtml = 'Like what you see? Visit the ' +\n",
              "            '<a target=\"_blank\" href=https://colab.research.google.com/notebooks/data_table.ipynb>data table notebook</a>'\n",
              "            + ' to learn more about interactive tables.';\n",
              "          element.innerHTML = '';\n",
              "          dataTable['output_type'] = 'display_data';\n",
              "          await google.colab.output.renderOutput(dataTable, element);\n",
              "          const docLink = document.createElement('div');\n",
              "          docLink.innerHTML = docLinkHtml;\n",
              "          element.appendChild(docLink);\n",
              "        }\n",
              "      </script>\n",
              "    </div>\n",
              "  </div>\n"
            ]
          },
          "metadata": {},
          "execution_count": 293
        }
      ]
    },
    {
      "cell_type": "code",
      "source": [
        "# Porcentagem de nulos\n",
        "print(f'{ df.LotFrontage.isna().sum() / df.shape[0] :.1%}')"
      ],
      "metadata": {
        "colab": {
          "base_uri": "https://localhost:8080/"
        },
        "id": "eefQeOrPv1NK",
        "outputId": "91bbc50b-32c5-47af-bd91-2f6f170011f0"
      },
      "execution_count": 294,
      "outputs": [
        {
          "output_type": "stream",
          "name": "stdout",
          "text": [
            "17.7%\n"
          ]
        }
      ]
    },
    {
      "cell_type": "code",
      "source": [
        "# Como muitos dos dados são nulos, e 'LotArea' nunca é nulo,\n",
        "# podemos inputar o valor como sendo raiz da area, numa aproximação\n",
        "# do lote para um quadrado\n",
        "def LotFrontage_sqrt_area(df_base):\n",
        "    return df.LotFrontage.fillna(value= np.sqrt(df_base.LotArea))\n",
        "\n",
        "LotFrontage_sqrt_area(df).plot.hist()"
      ],
      "metadata": {
        "colab": {
          "base_uri": "https://localhost:8080/",
          "height": 467
        },
        "id": "SNsLBr5AwE0g",
        "outputId": "5761942f-6022-48fa-dbd2-c23b4b9a00b0"
      },
      "execution_count": 295,
      "outputs": [
        {
          "output_type": "execute_result",
          "data": {
            "text/plain": [
              "<Axes: ylabel='Frequency'>"
            ]
          },
          "metadata": {},
          "execution_count": 295
        },
        {
          "output_type": "display_data",
          "data": {
            "text/plain": [
              "<Figure size 640x480 with 1 Axes>"
            ],
            "image/png": "[encoded data removed]"
          },
          "metadata": {}
        }
      ]
    },
    {
      "cell_type": "markdown",
      "source": [
        "O formato do histograma se mantem"
      ],
      "metadata": {
        "id": "lfjRf76jxQFY"
      }
    },
    {
      "cell_type": "code",
      "source": [
        "new_cols['LotFrontage'] = LotFrontage_sqrt_area\n",
        "df['LotFrontage'] = LotFrontage_sqrt_area(df)\n",
        "df['LotFrontage'].isna().sum()"
      ],
      "metadata": {
        "id": "e3R1Iylv8tvb",
        "outputId": "514eeb7e-1246-4d25-d363-2a237cca16df",
        "colab": {
          "base_uri": "https://localhost:8080/"
        }
      },
      "execution_count": 296,
      "outputs": [
        {
          "output_type": "execute_result",
          "data": {
            "text/plain": [
              "0"
            ]
          },
          "metadata": {},
          "execution_count": 296
        }
      ]
    },
    {
      "cell_type": "markdown",
      "source": [
        "#### FireplaceQu (690 nulos)\n"
      ],
      "metadata": {
        "id": "7GDWRRS4upiU"
      }
    },
    {
      "cell_type": "code",
      "source": [
        "# verificar se os nulos sao os \"NA\" descritos no data_description.txt\n",
        "# NA \tNo Fireplace\n",
        "df['FireplaceQu'].value_counts()"
      ],
      "metadata": {
        "colab": {
          "base_uri": "https://localhost:8080/"
        },
        "id": "LM5T6Lk1xfWC",
        "outputId": "f184e6e8-6034-4fd9-bfe7-6897657c4783"
      },
      "execution_count": 297,
      "outputs": [
        {
          "output_type": "execute_result",
          "data": {
            "text/plain": [
              "Gd    380\n",
              "TA    313\n",
              "Fa     33\n",
              "Ex     24\n",
              "Po     20\n",
              "Name: FireplaceQu, dtype: int64"
            ]
          },
          "metadata": {},
          "execution_count": 297
        }
      ]
    },
    {
      "cell_type": "code",
      "source": [
        "# Bater com a quantidade de lareiras: Fireplaces\n",
        "df[df.FireplaceQu.isna()]['Fireplaces'].value_counts()"
      ],
      "metadata": {
        "colab": {
          "base_uri": "https://localhost:8080/"
        },
        "id": "ll67K4PvxpJa",
        "outputId": "d666b57a-1766-4b81-befc-41b60a5ae8df"
      },
      "execution_count": 298,
      "outputs": [
        {
          "output_type": "execute_result",
          "data": {
            "text/plain": [
              "0    690\n",
              "Name: Fireplaces, dtype: int64"
            ]
          },
          "metadata": {},
          "execution_count": 298
        }
      ]
    },
    {
      "cell_type": "code",
      "source": [
        "# Inserir NA no lugar dos nulos\n",
        "df.FireplaceQu = df.FireplaceQu.fillna('N/A')\n",
        "df.FireplaceQu.value_counts()"
      ],
      "metadata": {
        "colab": {
          "base_uri": "https://localhost:8080/"
        },
        "id": "h1tWxq_Ix0vN",
        "outputId": "6a142f8b-f676-4310-b7a3-c48c77ad38d2"
      },
      "execution_count": 299,
      "outputs": [
        {
          "output_type": "execute_result",
          "data": {
            "text/plain": [
              "N/A    690\n",
              "Gd     380\n",
              "TA     313\n",
              "Fa      33\n",
              "Ex      24\n",
              "Po      20\n",
              "Name: FireplaceQu, dtype: int64"
            ]
          },
          "metadata": {},
          "execution_count": 299
        }
      ]
    },
    {
      "cell_type": "code",
      "source": [
        "# Como há pouca representatividade de algumas categorias, vamos agrupá-las sabendo que:\n",
        "    #    Ex\tExcellent - Exceptional Masonry Fireplace\n",
        "    #    Gd\tGood - Masonry Fireplace in main level\n",
        "    #    TA\tAverage - Prefabricated Fireplace in main living area or Masonry Fireplace in basement\n",
        "    #    Fa\tFair - Prefabricated Fireplace in basement\n",
        "    #    Po\tPoor - Ben Franklin Stove\n",
        "# Vamos separar por qualidade:\n",
        "def FireplaceQuality_extraction(df_base):\n",
        "    return df_base.FireplaceQu.map(\n",
        "        {\n",
        "            'Ex' : 'AboveAvg',\n",
        "            'Gd' : 'AboveAvg',\n",
        "            'TA' : 'AvgOrBelow',\n",
        "            'Fa' : 'AvgOrBelow',\n",
        "            'Po' : 'AvgOrBelow'\n",
        "        }\n",
        "    ).fillna('N/A')\n",
        "\n",
        "new_cols['FireplaceQu'] = LotFrontage_sqrt_area\n",
        "df['FireplaceQu'] = FireplaceQuality_extraction(df)\n",
        "df['FireplaceQu'].value_counts()"
      ],
      "metadata": {
        "colab": {
          "base_uri": "https://localhost:8080/"
        },
        "id": "KU-uYqRJ0aYD",
        "outputId": "b1c2816f-7c0a-4093-8f76-b5b8e31ba6d7"
      },
      "execution_count": 300,
      "outputs": [
        {
          "output_type": "execute_result",
          "data": {
            "text/plain": [
              "N/A           690\n",
              "AboveAvg      404\n",
              "AvgOrBelow    366\n",
              "Name: FireplaceQu, dtype: int64"
            ]
          },
          "metadata": {},
          "execution_count": 300
        }
      ]
    },
    {
      "cell_type": "markdown",
      "source": [
        "## Colunas com poucos nulos"
      ],
      "metadata": {
        "id": "cTfT9p248QLD"
      }
    },
    {
      "cell_type": "code",
      "source": [
        "df.isnull().sum()[df.isnull().sum() > 0].sort_values()"
      ],
      "metadata": {
        "id": "o9WqYmJW8gzK",
        "outputId": "e2984366-917e-4ef1-c0ad-8d1d567f3d00",
        "colab": {
          "base_uri": "https://localhost:8080/"
        }
      },
      "execution_count": 301,
      "outputs": [
        {
          "output_type": "execute_result",
          "data": {
            "text/plain": [
              "Electrical       1\n",
              "MasVnrType       8\n",
              "MasVnrArea       8\n",
              "BsmtQual        37\n",
              "BsmtCond        37\n",
              "BsmtFinType1    37\n",
              "BsmtExposure    38\n",
              "BsmtFinType2    38\n",
              "GarageType      81\n",
              "GarageYrBlt     81\n",
              "GarageFinish    81\n",
              "GarageQual      81\n",
              "GarageCond      81\n",
              "dtype: int64"
            ]
          },
          "metadata": {},
          "execution_count": 301
        }
      ]
    },
    {
      "cell_type": "markdown",
      "source": [
        "## Visualização de variáveis numéricas"
      ],
      "metadata": {
        "id": "cnjLDsEj8673"
      }
    },
    {
      "cell_type": "code",
      "source": [
        "# atualizando colunas numéricas\n",
        "col_num = df.select_dtypes(include= 'number').columns\n",
        "col_num"
      ],
      "metadata": {
        "id": "BUweFdCPCV6S",
        "outputId": "85a3d621-52bd-43a8-dd79-ffec2131c9b4",
        "colab": {
          "base_uri": "https://localhost:8080/"
        }
      },
      "execution_count": 308,
      "outputs": [
        {
          "output_type": "execute_result",
          "data": {
            "text/plain": [
              "Index(['LotFrontage', 'LotArea', 'YearBuilt', 'YearRemodAdd', 'MasVnrArea',\n",
              "       'BsmtFinSF1', 'BsmtFinSF2', 'BsmtUnfSF', '1stFlrSF', '2ndFlrSF',\n",
              "       'LowQualFinSF', 'BsmtFullBath', 'BsmtHalfBath', 'FullBath', 'HalfBath',\n",
              "       'BedroomAbvGr', 'KitchenAbvGr', 'TotRmsAbvGrd', 'Fireplaces',\n",
              "       'GarageYrBlt', 'GarageCars', 'GarageArea', 'WoodDeckSF', 'OpenPorchSF',\n",
              "       'EnclosedPorch', '3SsnPorch', 'ScreenPorch', 'PoolArea', 'MiscVal',\n",
              "       'MoSold', 'YrSold', 'SalePrice'],\n",
              "      dtype='object')"
            ]
          },
          "metadata": {},
          "execution_count": 308
        }
      ]
    },
    {
      "cell_type": "code",
      "source": [
        "# Correlaçoes\n",
        "_ = sns.heatmap(df[col_num].corr(), vmax= 1, vmin= -1)"
      ],
      "metadata": {
        "id": "NF3-Vbgf9BM-",
        "outputId": "cf3a8303-a545-4e0d-9b90-ca87de6ada65",
        "colab": {
          "base_uri": "https://localhost:8080/",
          "height": 543
        }
      },
      "execution_count": 309,
      "outputs": [
        {
          "output_type": "display_data",
          "data": {
            "text/plain": [
              "<Figure size 640x480 with 2 Axes>"
            ],
            "image/png": "[encoded data removed]"
          },
          "metadata": {}
        }
      ]
    },
    {
      "cell_type": "code",
      "source": [
        "# correlation matrix, with \"Y-columns\" as a column 'var1'\n",
        "corr = df[col_num].corr().reset_index().rename(columns= {'index' : 'var1'})\n",
        "\n",
        "# wide to long such as each row is: var1 - var2 - corr(var1, var2)\n",
        "corr = corr.melt(id_vars= 'var1', var_name= 'var2')\n",
        "\n",
        "# eliminar linhas da diagonal principal\n",
        "corr = corr[corr.var1 != corr.var2]\n",
        "\n",
        "# eliminar valores espelhados da matrix\n",
        "corr[['var1', 'var2']] = corr.apply(\n",
        "    lambda row: pd.Series(sorted(row[['var1', 'var2']])),\n",
        "    axis=1\n",
        "    )\n",
        "corr = corr.drop_duplicates()\n",
        "\n",
        "# Mostrar os valores com alta correlação\n",
        "corr[np.abs(corr.value) > 0.8]"
      ],
      "metadata": {
        "id": "maFvO5AL9P8G",
        "outputId": "a1cb1ab3-7268-4c4a-9538-d00281b8a219",
        "colab": {
          "base_uri": "https://localhost:8080/",
          "height": 130
        }
      },
      "execution_count": 310,
      "outputs": [
        {
          "output_type": "execute_result",
          "data": {
            "text/plain": [
              "            var1        var2     value\n",
              "83   GarageYrBlt   YearBuilt  0.825667\n",
              "661   GarageArea  GarageCars  0.882475"
            ],
            "text/html": [
              "\n",
              "\n",
              "  <div id=\"df-5ceb786d-ef23-495c-b1a3-907f03f2beda\">\n",
              "    <div class=\"colab-df-container\">\n",
              "      <div>\n",
              "<style scoped>\n",
              "    .dataframe tbody tr th:only-of-type {\n",
              "        vertical-align: middle;\n",
              "    }\n",
              "\n",
              "    .dataframe tbody tr th {\n",
              "        vertical-align: top;\n",
              "    }\n",
              "\n",
              "    .dataframe thead th {\n",
              "        text-align: right;\n",
              "    }\n",
              "</style>\n",
              "<table border=\"1\" class=\"dataframe\">\n",
              "  <thead>\n",
              "    <tr style=\"text-align: right;\">\n",
              "      <th></th>\n",
              "      <th>var1</th>\n",
              "      <th>var2</th>\n",
              "      <th>value</th>\n",
              "    </tr>\n",
              "  </thead>\n",
              "  <tbody>\n",
              "    <tr>\n",
              "      <th>83</th>\n",
              "      <td>GarageYrBlt</td>\n",
              "      <td>YearBuilt</td>\n",
              "      <td>0.825667</td>\n",
              "    </tr>\n",
              "    <tr>\n",
              "      <th>661</th>\n",
              "      <td>GarageArea</td>\n",
              "      <td>GarageCars</td>\n",
              "      <td>0.882475</td>\n",
              "    </tr>\n",
              "  </tbody>\n",
              "</table>\n",
              "</div>\n",
              "      <button class=\"colab-df-convert\" onclick=\"convertToInteractive('df-5ceb786d-ef23-495c-b1a3-907f03f2beda')\"\n",
              "              title=\"Convert this dataframe to an interactive table.\"\n",
              "              style=\"display:none;\">\n",
              "\n",
              "  <svg xmlns=\"http://www.w3.org/2000/svg\" height=\"24px\"viewBox=\"0 0 24 24\"\n",
              "       width=\"24px\">\n",
              "    <path d=\"M0 0h24v24H0V0z\" fill=\"none\"/>\n",
              "    <path d=\"M18.56 5.44l.94 2.06.94-2.06 2.06-.94-2.06-.94-.94-2.06-.94 2.06-2.06.94zm-11 1L8.5 8.5l.94-2.06 2.06-.94-2.06-.94L8.5 2.5l-.94 2.06-2.06.94zm10 10l.94 2.06.94-2.06 2.06-.94-2.06-.94-.94-2.06-.94 2.06-2.06.94z\"/><path d=\"M17.41 7.96l-1.37-1.37c-.4-.4-.92-.59-1.43-.59-.52 0-1.04.2-1.43.59L10.3 9.45l-7.72 7.72c-.78.78-.78 2.05 0 2.83L4 21.41c.39.39.9.59 1.41.59.51 0 1.02-.2 1.41-.59l7.78-7.78 2.81-2.81c.8-.78.8-2.07 0-2.86zM5.41 20L4 18.59l7.72-7.72 1.47 1.35L5.41 20z\"/>\n",
              "  </svg>\n",
              "      </button>\n",
              "\n",
              "\n",
              "\n",
              "    <div id=\"df-842060c3-18ce-491a-a6be-b6d1f3dc3f68\">\n",
              "      <button class=\"colab-df-quickchart\" onclick=\"quickchart('df-842060c3-18ce-491a-a6be-b6d1f3dc3f68')\"\n",
              "              title=\"Suggest charts.\"\n",
              "              style=\"display:none;\">\n",
              "\n",
              "<svg xmlns=\"http://www.w3.org/2000/svg\" height=\"24px\"viewBox=\"0 0 24 24\"\n",
              "     width=\"24px\">\n",
              "    <g>\n",
              "        <path d=\"M19 3H5c-1.1 0-2 .9-2 2v14c0 1.1.9 2 2 2h14c1.1 0 2-.9 2-2V5c0-1.1-.9-2-2-2zM9 17H7v-7h2v7zm4 0h-2V7h2v10zm4 0h-2v-4h2v4z\"/>\n",
              "    </g>\n",
              "</svg>\n",
              "      </button>\n",
              "    </div>\n",
              "\n",
              "<style>\n",
              "  .colab-df-quickchart {\n",
              "    background-color: #E8F0FE;\n",
              "    border: none;\n",
              "    border-radius: 50%;\n",
              "    cursor: pointer;\n",
              "    display: none;\n",
              "    fill: #1967D2;\n",
              "    height: 32px;\n",
              "    padding: 0 0 0 0;\n",
              "    width: 32px;\n",
              "  }\n",
              "\n",
              "  .colab-df-quickchart:hover {\n",
              "    background-color: #E2EBFA;\n",
              "    box-shadow: 0px 1px 2px rgba(60, 64, 67, 0.3), 0px 1px 3px 1px rgba(60, 64, 67, 0.15);\n",
              "    fill: #174EA6;\n",
              "  }\n",
              "\n",
              "  [theme=dark] .colab-df-quickchart {\n",
              "    background-color: #3B4455;\n",
              "    fill: #D2E3FC;\n",
              "  }\n",
              "\n",
              "  [theme=dark] .colab-df-quickchart:hover {\n",
              "    background-color: #434B5C;\n",
              "    box-shadow: 0px 1px 3px 1px rgba(0, 0, 0, 0.15);\n",
              "    filter: drop-shadow(0px 1px 2px rgba(0, 0, 0, 0.3));\n",
              "    fill: #FFFFFF;\n",
              "  }\n",
              "</style>\n",
              "\n",
              "    <script>\n",
              "      async function quickchart(key) {\n",
              "        const containerElement = document.querySelector('#' + key);\n",
              "        const charts = await google.colab.kernel.invokeFunction(\n",
              "            'suggestCharts', [key], {});\n",
              "      }\n",
              "    </script>\n",
              "\n",
              "      <script>\n",
              "\n",
              "function displayQuickchartButton(domScope) {\n",
              "  let quickchartButtonEl =\n",
              "    domScope.querySelector('#df-842060c3-18ce-491a-a6be-b6d1f3dc3f68 button.colab-df-quickchart');\n",
              "  quickchartButtonEl.style.display =\n",
              "    google.colab.kernel.accessAllowed ? 'block' : 'none';\n",
              "}\n",
              "\n",
              "        displayQuickchartButton(document);\n",
              "      </script>\n",
              "      <style>\n",
              "    .colab-df-container {\n",
              "      display:flex;\n",
              "      flex-wrap:wrap;\n",
              "      gap: 12px;\n",
              "    }\n",
              "\n",
              "    .colab-df-convert {\n",
              "      background-color: #E8F0FE;\n",
              "      border: none;\n",
              "      border-radius: 50%;\n",
              "      cursor: pointer;\n",
              "      display: none;\n",
              "      fill: #1967D2;\n",
              "      height: 32px;\n",
              "      padding: 0 0 0 0;\n",
              "      width: 32px;\n",
              "    }\n",
              "\n",
              "    .colab-df-convert:hover {\n",
              "      background-color: #E2EBFA;\n",
              "      box-shadow: 0px 1px 2px rgba(60, 64, 67, 0.3), 0px 1px 3px 1px rgba(60, 64, 67, 0.15);\n",
              "      fill: #174EA6;\n",
              "    }\n",
              "\n",
              "    [theme=dark] .colab-df-convert {\n",
              "      background-color: #3B4455;\n",
              "      fill: #D2E3FC;\n",
              "    }\n",
              "\n",
              "    [theme=dark] .colab-df-convert:hover {\n",
              "      background-color: #434B5C;\n",
              "      box-shadow: 0px 1px 3px 1px rgba(0, 0, 0, 0.15);\n",
              "      filter: drop-shadow(0px 1px 2px rgba(0, 0, 0, 0.3));\n",
              "      fill: #FFFFFF;\n",
              "    }\n",
              "  </style>\n",
              "\n",
              "      <script>\n",
              "        const buttonEl =\n",
              "          document.querySelector('#df-5ceb786d-ef23-495c-b1a3-907f03f2beda button.colab-df-convert');\n",
              "        buttonEl.style.display =\n",
              "          google.colab.kernel.accessAllowed ? 'block' : 'none';\n",
              "\n",
              "        async function convertToInteractive(key) {\n",
              "          const element = document.querySelector('#df-5ceb786d-ef23-495c-b1a3-907f03f2beda');\n",
              "          const dataTable =\n",
              "            await google.colab.kernel.invokeFunction('convertToInteractive',\n",
              "                                                     [key], {});\n",
              "          if (!dataTable) return;\n",
              "\n",
              "          const docLinkHtml = 'Like what you see? Visit the ' +\n",
              "            '<a target=\"_blank\" href=https://colab.research.google.com/notebooks/data_table.ipynb>data table notebook</a>'\n",
              "            + ' to learn more about interactive tables.';\n",
              "          element.innerHTML = '';\n",
              "          dataTable['output_type'] = 'display_data';\n",
              "          await google.colab.output.renderOutput(dataTable, element);\n",
              "          const docLink = document.createElement('div');\n",
              "          docLink.innerHTML = docLinkHtml;\n",
              "          element.appendChild(docLink);\n",
              "        }\n",
              "      </script>\n",
              "    </div>\n",
              "  </div>\n"
            ]
          },
          "metadata": {},
          "execution_count": 310
        }
      ]
    },
    {
      "cell_type": "code",
      "source": [
        "# Vamos dropar essas colunas com alta correlação\n",
        "# GarageYrBlt e GarageCars parecem menos relevantes\n",
        "df = df.drop(columns= ['GarageYrBlt', 'GarageCars'])\n",
        "remove_cols.update(['GarageYrBlt', 'GarageCars'])\n",
        "remove_cols"
      ],
      "metadata": {
        "id": "3BmkPacRBvNO",
        "outputId": "95624e6a-e34f-4dbe-f546-bd1e8f2840ea",
        "colab": {
          "base_uri": "https://localhost:8080/"
        }
      },
      "execution_count": 311,
      "outputs": [
        {
          "output_type": "execute_result",
          "data": {
            "text/plain": [
              "{'Fence',\n",
              " 'GarageCars',\n",
              " 'GarageYrBlt',\n",
              " 'GrLivArea',\n",
              " 'MiscFeature',\n",
              " 'PoolQC',\n",
              " 'TotalBsmtSF'}"
            ]
          },
          "metadata": {},
          "execution_count": 311
        }
      ]
    },
    {
      "cell_type": "markdown",
      "source": [
        "# Modelo de predição"
      ],
      "metadata": {
        "id": "sZOfm0_bZAGW"
      }
    },
    {
      "cell_type": "code",
      "execution_count": null,
      "metadata": {
        "id": "45sLrKdkQiWu"
      },
      "outputs": [],
      "source": [
        "#teste train split pipeline\n",
        "from sklearn.model_selection import train_test_split\n",
        "from sklearn.pipeline import Pipeline\n",
        "from sklearn.preprocessing import StandardScaler\n",
        "from sklearn.linear_model import LinearRegression\n",
        "\n",
        "#separar dados em treino e teste\n",
        "X_train, X_test, y_train, y_test = train_test_split(df.drop('SalePrice', axis=1), df['SalePrice'], test_size=0.3, random_state=0)\n",
        "\n",
        "#Criar X_Cols com apenas colunas numericas\n",
        "X_cols = X_train.select_dtypes(include=['int64', 'float64']).columns\n",
        "\n",
        "X_train = X_train[X_cols]\n",
        "X_test = X_test[X_cols]\n",
        "\n",
        "#trocar NaN por 0\n",
        "X_train.fillna(0, inplace=True)\n",
        "X_test.fillna(0, inplace=True)"
      ]
    },
    {
      "cell_type": "code",
      "execution_count": null,
      "metadata": {
        "id": "VJKTuSFDQiWv",
        "outputId": "d67ee938-ea60-49ed-f3a0-7a4882e25d4d"
      },
      "outputs": [
        {
          "name": "stdout",
          "output_type": "stream",
          "text": [
            "31593.12574652937\n"
          ]
        }
      ],
      "source": [
        "#criar pipeline Random Forest\n",
        "from sklearn.ensemble import RandomForestRegressor\n",
        "\n",
        "pipeline = Pipeline([('scaler', StandardScaler()), ('', RandomForestRegressor())])\n",
        "\n",
        "#treinar modelo\n",
        "pipeline.fit(X_train, y_train)\n",
        "\n",
        "#fazer previsões\n",
        "y_pred = pipeline.predict(X_test)\n",
        "\n",
        "#avaliar modelo]\n",
        "from sklearn.metrics import mean_squared_error\n",
        "import numpy as np\n",
        "print(np.sqrt(mean_squared_error(y_test, y_pred)))\n",
        "#print outras metricas\n"
      ]
    },
    {
      "cell_type": "code",
      "execution_count": null,
      "metadata": {
        "id": "kCpjbkjEQiWw",
        "outputId": "d0a86b56-4f9d-4898-e7d0-e734490d11c4"
      },
      "outputs": [
        {
          "name": "stdout",
          "output_type": "stream",
          "text": [
            "0.139431397564966\n"
          ]
        }
      ],
      "source": [
        "#log do erro\n",
        "print(np.sqrt(mean_squared_error(np.log(y_test), np.log(y_pred))))"
      ]
    },
    {
      "cell_type": "code",
      "execution_count": null,
      "metadata": {
        "id": "r_JSSN3kQiWy",
        "outputId": "7d6aa060-fa66-4c47-ebbb-ef20e053b0c8"
      },
      "outputs": [
        {
          "data": {
            "text/plain": [
              "count      1460.000000\n",
              "mean     180921.195890\n",
              "std       79442.502883\n",
              "min       34900.000000\n",
              "25%      129975.000000\n",
              "50%      163000.000000\n",
              "75%      214000.000000\n",
              "max      755000.000000\n",
              "Name: SalePrice, dtype: float64"
            ]
          },
          "execution_count": 18,
          "metadata": {},
          "output_type": "execute_result"
        }
      ],
      "source": [
        "#describe saleprice\n",
        "df['SalePrice'].describe()"
      ]
    },
    {
      "cell_type": "code",
      "execution_count": null,
      "metadata": {
        "id": "F8SBDuqsQiW0",
        "outputId": "a3e7f2d1-c821-4339-9200-1f03dcf291c0"
      },
      "outputs": [
        {
          "data": {
            "text/plain": [
              "0     VinylSd\n",
              "1     MetalSd\n",
              "2     VinylSd\n",
              "3     Wd Sdng\n",
              "4     VinylSd\n",
              "5     VinylSd\n",
              "6     VinylSd\n",
              "7     HdBoard\n",
              "8     BrkFace\n",
              "9     MetalSd\n",
              "10    HdBoard\n",
              "11    WdShing\n",
              "12    HdBoard\n",
              "13    VinylSd\n",
              "14    MetalSd\n",
              "15    Wd Sdng\n",
              "16    Wd Sdng\n",
              "17    MetalSd\n",
              "18    VinylSd\n",
              "19    BrkFace\n",
              "Name: Exterior1st, dtype: object"
            ]
          },
          "execution_count": 44,
          "metadata": {},
          "output_type": "execute_result"
        }
      ],
      "source": [
        "#df head Exterior1st\n",
        "df['Exterior1st'].head(20)"
      ]
    },
    {
      "cell_type": "markdown",
      "source": [
        "# Resultado do Desafio"
      ],
      "metadata": {
        "id": "jeBEX9vGY47M"
      }
    },
    {
      "cell_type": "code",
      "execution_count": null,
      "metadata": {
        "id": "YsnxXaNnQiW1"
      },
      "outputs": [],
      "source": [
        "#read test.csv\n",
        "df_test = pd.read_csv('test.csv')"
      ]
    },
    {
      "cell_type": "markdown",
      "source": [],
      "metadata": {
        "id": "958xLwebY9Ue"
      }
    },
    {
      "cell_type": "code",
      "execution_count": null,
      "metadata": {
        "id": "lun8GIBKQiW2"
      },
      "outputs": [],
      "source": [
        "#fazer previsao para test.csv, e escrever a resposta no arquivo csv\n",
        "df_test.fillna(0, inplace=True)\n",
        "y_pred_test = pipeline.predict(df_test[X_cols])\n",
        "#fill nan with 0\n",
        "\n",
        "df_test['SalePrice'] = y_pred_test\n",
        "\n",
        "df_test[['Id', 'SalePrice']].to_csv('submission.csv', index=False)\n",
        "\n"
      ]
    }
  ],
  "metadata": {
    "kernelspec": {
      "display_name": "Python 3",
      "language": "python",
      "name": "python3"
    },
    "language_info": {
      "codemirror_mode": {
        "name": "ipython",
        "version": 3
      },
      "file_extension": ".py",
      "mimetype": "text/x-python",
      "name": "python",
      "nbconvert_exporter": "python",
      "pygments_lexer": "ipython3",
      "version": "3.11.2"
    },
    "orig_nbformat": 4,
    "colab": {
      "provenance": [],
      "toc_visible": true,
      "include_colab_link": true
    }
  },
  "nbformat": 4,
  "nbformat_minor": 0
}